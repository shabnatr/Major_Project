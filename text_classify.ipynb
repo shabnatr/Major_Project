{
 "cells": [
  {
   "cell_type": "code",
   "execution_count": 1,
   "metadata": {},
   "outputs": [
    {
     "name": "stdout",
     "output_type": "stream",
     "text": [
      "df.shape =  (120000, 3)\n"
     ]
    },
    {
     "data": {
      "text/html": [
       "<div>\n",
       "<style scoped>\n",
       "    .dataframe tbody tr th:only-of-type {\n",
       "        vertical-align: middle;\n",
       "    }\n",
       "\n",
       "    .dataframe tbody tr th {\n",
       "        vertical-align: top;\n",
       "    }\n",
       "\n",
       "    .dataframe thead th {\n",
       "        text-align: right;\n",
       "    }\n",
       "</style>\n",
       "<table border=\"1\" class=\"dataframe\">\n",
       "  <thead>\n",
       "    <tr style=\"text-align: right;\">\n",
       "      <th></th>\n",
       "      <th>group</th>\n",
       "      <th>title</th>\n",
       "      <th>article</th>\n",
       "    </tr>\n",
       "  </thead>\n",
       "  <tbody>\n",
       "    <tr>\n",
       "      <td>0</td>\n",
       "      <td>3</td>\n",
       "      <td>Wall St. Bears Claw Back Into the Black (Reuters)</td>\n",
       "      <td>Reuters - Short-sellers, Wall Street's dwindli...</td>\n",
       "    </tr>\n",
       "    <tr>\n",
       "      <td>1</td>\n",
       "      <td>3</td>\n",
       "      <td>Carlyle Looks Toward Commercial Aerospace (Reu...</td>\n",
       "      <td>Reuters - Private investment firm Carlyle Grou...</td>\n",
       "    </tr>\n",
       "    <tr>\n",
       "      <td>2</td>\n",
       "      <td>3</td>\n",
       "      <td>Oil and Economy Cloud Stocks' Outlook (Reuters)</td>\n",
       "      <td>Reuters - Soaring crude prices plus worries\\ab...</td>\n",
       "    </tr>\n",
       "    <tr>\n",
       "      <td>3</td>\n",
       "      <td>3</td>\n",
       "      <td>Iraq Halts Oil Exports from Main Southern Pipe...</td>\n",
       "      <td>Reuters - Authorities have halted oil export\\f...</td>\n",
       "    </tr>\n",
       "    <tr>\n",
       "      <td>4</td>\n",
       "      <td>3</td>\n",
       "      <td>Oil prices soar to all-time record, posing new...</td>\n",
       "      <td>AFP - Tearaway world oil prices, toppling reco...</td>\n",
       "    </tr>\n",
       "  </tbody>\n",
       "</table>\n",
       "</div>"
      ],
      "text/plain": [
       "   group                                              title  \\\n",
       "0      3  Wall St. Bears Claw Back Into the Black (Reuters)   \n",
       "1      3  Carlyle Looks Toward Commercial Aerospace (Reu...   \n",
       "2      3    Oil and Economy Cloud Stocks' Outlook (Reuters)   \n",
       "3      3  Iraq Halts Oil Exports from Main Southern Pipe...   \n",
       "4      3  Oil prices soar to all-time record, posing new...   \n",
       "\n",
       "                                             article  \n",
       "0  Reuters - Short-sellers, Wall Street's dwindli...  \n",
       "1  Reuters - Private investment firm Carlyle Grou...  \n",
       "2  Reuters - Soaring crude prices plus worries\\ab...  \n",
       "3  Reuters - Authorities have halted oil export\\f...  \n",
       "4  AFP - Tearaway world oil prices, toppling reco...  "
      ]
     },
     "execution_count": 1,
     "metadata": {},
     "output_type": "execute_result"
    }
   ],
   "source": [
    "#Take and read dataset\n",
    "import pandas as pd\n",
    "df = pd.read_csv('/home/shabi/Desktop/Project/news_article/Newspaper-Article-Classification-master/data/train.csv')\n",
    "df\n",
    "print(\"df.shape = \", df.shape)\n",
    "df.head()"
   ]
  },
  {
   "cell_type": "code",
   "execution_count": 2,
   "metadata": {},
   "outputs": [
    {
     "name": "stdout",
     "output_type": "stream",
     "text": [
      "Total Categories :  4\n",
      "group\n",
      "1    30000\n",
      "2    30000\n",
      "3    30000\n",
      "4    30000\n",
      "dtype: int64\n"
     ]
    }
   ],
   "source": [
    "#grouping categories\n",
    "import pandas as pd\n",
    "df = pd.read_csv('/home/shabi/Desktop/Project/news_article/Newspaper-Article-Classification-master/data/train.csv')\n",
    "categories = df.groupby('group')\n",
    "print(\"Total Categories : \", categories.ngroups)\n",
    "print(categories.size())"
   ]
  },
  {
   "cell_type": "code",
   "execution_count": 4,
   "metadata": {},
   "outputs": [
    {
     "data": {
      "text/plain": [
       "<Figure size 1440x360 with 0 Axes>"
      ]
     },
     "metadata": {},
     "output_type": "display_data"
    },
    {
     "data": {
      "image/png": "[encoded data removed]",
      "text/plain": [
       "<Figure size 432x288 with 1 Axes>"
      ]
     },
     "metadata": {
      "needs_background": "light"
     },
     "output_type": "display_data"
    }
   ],
   "source": [
    "#plot graph\n",
    "import matplotlib.pyplot as plt\n",
    "\n",
    "fig = plt.figure(figsize=(20,5))\n",
    "df.groupby('group').count().plot.bar(ylim=0)\n",
    "plt.show()"
   ]
  },
  {
   "cell_type": "code",
   "execution_count": 5,
   "metadata": {},
   "outputs": [],
   "source": [
    "#fetch dataset\n",
    "import numpy as np\n",
    "from sklearn.datasets import fetch_20newsgroups\n",
    "train = fetch_20newsgroups(subset='train', shuffle=True)\n",
    "test = fetch_20newsgroups(subset='test', shuffle=True)"
   ]
  },
  {
   "cell_type": "code",
   "execution_count": 6,
   "metadata": {},
   "outputs": [
    {
     "name": "stdout",
     "output_type": "stream",
     "text": [
      "['alt.atheism', 'comp.graphics', 'comp.os.ms-windows.misc', 'comp.sys.ibm.pc.hardware', 'comp.sys.mac.hardware', 'comp.windows.x', 'misc.forsale', 'rec.autos', 'rec.motorcycles', 'rec.sport.baseball', 'rec.sport.hockey', 'sci.crypt', 'sci.electronics', 'sci.med', 'sci.space', 'soc.religion.christian', 'talk.politics.guns', 'talk.politics.mideast', 'talk.politics.misc', 'talk.religion.misc']\n"
     ]
    }
   ],
   "source": [
    "print(train.target_names)"
   ]
  },
  {
   "cell_type": "code",
   "execution_count": 7,
   "metadata": {},
   "outputs": [
    {
     "name": "stdout",
     "output_type": "stream",
     "text": [
      "Time take to vectorize the training data: 2.486 secs\n",
      "Sample sparse matrix after vectorization:\n",
      "  (0, 18299)\t0.138749083899155\n",
      "  (0, 16574)\t0.14155752531572685\n",
      "  (0, 4605)\t0.06332603952480323\n",
      "  (1, 7797)\t0.13724375024886207\n",
      "  (1, 2927)\t0.05212944077716301\n",
      "  (2, 15032)\t0.07834044496813064\n",
      "  (2, 12197)\t0.05168179280403426\n",
      "  (2, 6449)\t0.06812813848609162\n",
      "  (2, 6028)\t0.10554465088856507\n",
      "  (2, 5811)\t0.2878251559842457\n",
      "  (2, 5023)\t0.13698619641739626\n",
      "  (2, 3412)\t0.06228731252083091\n",
      "  (3, 18618)\t0.14195950717692904\n",
      "  (3, 4155)\t0.05353413616615428\n"
     ]
    }
   ],
   "source": [
    "#Vectorization\n",
    "import time\n",
    "from sklearn.feature_extraction.text import CountVectorizer\n",
    "t1=time.time()\n",
    "count_vect = CountVectorizer()\n",
    "X_train_counts = count_vect.fit_transform(train.data)\n",
    "from sklearn.feature_extraction.text import TfidfTransformer\n",
    "tfidf_transformer = TfidfTransformer()\n",
    "X_train_tfidf = tfidf_transformer.fit_transform(X_train_counts)\n",
    "print (\"Time take to vectorize the training data:\", round(time.time()-t1, 3), \"secs\")\n",
    "print(\"Sample sparse matrix after vectorization:\")\n",
    "print (X_train_tfidf[0:4,0:20000])"
   ]
  },
  {
   "cell_type": "code",
   "execution_count": 8,
   "metadata": {},
   "outputs": [
    {
     "name": "stdout",
     "output_type": "stream",
     "text": [
      "Time take to Vectorize training data and train model: 2.243 secs\n",
      "Time take to Predict classes for testing data: 8.499 secs\n",
      "Accuracy:\n"
     ]
    },
    {
     "data": {
      "text/plain": [
       "0.6591874668082847"
      ]
     },
     "execution_count": 8,
     "metadata": {},
     "output_type": "execute_result"
    }
   ],
   "source": [
    "#KNN\n",
    "from sklearn.pipeline import Pipeline\n",
    "from sklearn import neighbors\n",
    "\n",
    "text_clf = Pipeline([('vect', CountVectorizer()),\n",
    "                     ('tfidf', TfidfTransformer()),\n",
    "                     ('clf', neighbors.KNeighborsClassifier())])\n",
    "t0=time.time()\n",
    "text_clf.fit(train.data, train.target)\n",
    "print (\"Time take to Vectorize training data and train model:\", round(time.time()-t0, 3), \"secs\")\n",
    "t1=time.time()\n",
    "predicted = text_clf.predict(test.data)\n",
    "print (\"Time take to Predict classes for testing data:\", round(time.time()-t1, 3), \"secs\")\n",
    "print(\"Accuracy:\")\n",
    "np.mean(predicted == test.target)"
   ]
  },
  {
   "cell_type": "code",
   "execution_count": 9,
   "metadata": {},
   "outputs": [
    {
     "name": "stdout",
     "output_type": "stream",
     "text": [
      "Time take to Vectorize training data and train model: 3.141 secs\n",
      "Time take to Predict classes for testing data: 1.325 secs\n",
      "Accuracy:\n"
     ]
    },
    {
     "data": {
      "text/plain": [
       "0.8532926181625067"
      ]
     },
     "execution_count": 9,
     "metadata": {},
     "output_type": "execute_result"
    }
   ],
   "source": [
    "#SVM\n",
    "from sklearn.pipeline import Pipeline\n",
    "from sklearn.linear_model import SGDClassifier\n",
    "import warnings\n",
    "warnings.filterwarnings(\"ignore\")\n",
    "text_clf = Pipeline([('vect', CountVectorizer()),\n",
    "                     ('tfidf', TfidfTransformer()),\n",
    "                     ('clf', SGDClassifier())])\n",
    "t0=time.time()\n",
    "text_clf.fit(train.data, train.target)\n",
    "print (\"Time take to Vectorize training data and train model:\", round(time.time()-t0, 3), \"secs\")\n",
    "t1=time.time()\n",
    "predicted = text_clf.predict(test.data)\n",
    "print (\"Time take to Predict classes for testing data:\", round(time.time()-t1, 3), \"secs\")\n",
    "print(\"Accuracy:\")\n",
    "np.mean(predicted == test.target)"
   ]
  },
  {
   "cell_type": "code",
   "execution_count": 10,
   "metadata": {},
   "outputs": [
    {
     "name": "stdout",
     "output_type": "stream",
     "text": [
      "Time take to Vectorize training data and train model: 2.392 secs\n",
      "Time take to Predict classes for testing data: 1.399 secs\n",
      "Accuracy:\n"
     ]
    },
    {
     "data": {
      "text/plain": [
       "0.7738980350504514"
      ]
     },
     "execution_count": 10,
     "metadata": {},
     "output_type": "execute_result"
    }
   ],
   "source": [
    "#Naive Bayes\n",
    "from sklearn.pipeline import Pipeline\n",
    "from sklearn.naive_bayes import MultinomialNB\n",
    "text_clf = Pipeline([('vect', CountVectorizer()),\n",
    "                     ('tfidf', TfidfTransformer()),\n",
    "                     ('clf', MultinomialNB())])\n",
    "t0=time.time()\n",
    "text_clf.fit(train.data, train.target)\n",
    "print (\"Time take to Vectorize training data and train model:\", round(time.time()-t0, 3), \"secs\")\n",
    "t1=time.time()\n",
    "predicted = text_clf.predict(test.data)\n",
    "print (\"Time take to Predict classes for testing data:\", round(time.time()-t1, 3), \"secs\")\n",
    "print(\"Accuracy:\")\n",
    "np.mean(predicted == test.target)\n"
   ]
  },
  {
   "cell_type": "code",
   "execution_count": 11,
   "metadata": {},
   "outputs": [
    {
     "name": "stdout",
     "output_type": "stream",
     "text": [
      "Bag-of-Words\n",
      "['anagh', 'anmol', 'intelligent', 'is', 'smart']\n",
      "[[2 0 1 1 0]\n",
      " [0 1 0 1 1]]\n",
      "Bi-grams\n",
      "[' a', 'ag', 'an', 'gh', 'h ', 'l ', 'mo', 'na', 'nm', 'ol']\n",
      "[[1 1 1 1 1 0 0 1 0 0]\n",
      " [1 0 1 0 0 1 1 0 1 1]]\n",
      "Tri-grams\n",
      "[' an', 'agh', 'ana', 'anm', 'gh ', 'mol', 'nag', 'nmo', 'ol ']\n",
      "[[1 1 1 0 1 0 1 0 0]\n",
      " [1 0 0 1 0 1 0 1 1]]\n"
     ]
    }
   ],
   "source": [
    "#Sparse matrix\n",
    "ngram_vectorizer = CountVectorizer()\n",
    "counts = ngram_vectorizer.fit_transform(['Anagh Anagh is intelligent', 'Anmol is smart'])\n",
    "print(\"Bag-of-Words\")\n",
    "print(ngram_vectorizer.get_feature_names())\n",
    "print(counts.toarray().astype(int))\n",
    "\n",
    "ngram_vectorizer = CountVectorizer(analyzer='char_wb', ngram_range=(2, 2))\n",
    "counts = ngram_vectorizer.fit_transform(['Anagh', 'Anmol'])\n",
    "print(\"Bi-grams\")\n",
    "print(ngram_vectorizer.get_feature_names())\n",
    "print(counts.toarray().astype(int))\n",
    "\n",
    "ngram_vectorizer = CountVectorizer(analyzer='char_wb', ngram_range=(3, 3))\n",
    "counts = ngram_vectorizer.fit_transform(['Anagh', 'Anmol'])\n",
    "print(\"Tri-grams\")\n",
    "print(ngram_vectorizer.get_feature_names())\n",
    "print(counts.toarray().astype(int))"
   ]
  },
  {
   "cell_type": "code",
   "execution_count": null,
   "metadata": {},
   "outputs": [],
   "source": []
  }
 ],
 "metadata": {
  "kernelspec": {
   "display_name": "Python 3",
   "language": "python",
   "name": "python3"
  },
  "language_info": {
   "codemirror_mode": {
    "name": "ipython",
    "version": 3
   },
   "file_extension": ".py",
   "mimetype": "text/x-python",
   "name": "python",
   "nbconvert_exporter": "python",
   "pygments_lexer": "ipython3",
   "version": "3.7.4"
  }
 },
 "nbformat": 4,
 "nbformat_minor": 2
}
